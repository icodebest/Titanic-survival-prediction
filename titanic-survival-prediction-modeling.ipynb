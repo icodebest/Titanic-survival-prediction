{
 "cells": [
  {
   "cell_type": "code",
   "execution_count": 1,
   "id": "a7487055",
   "metadata": {
    "_cell_guid": "b1076dfc-b9ad-4769-8c92-a6c4dae69d19",
    "_uuid": "8f2839f25d086af736a60e9eeb907d3b93b6e0e5",
    "execution": {
     "iopub.execute_input": "2024-07-11T10:58:38.808326Z",
     "iopub.status.busy": "2024-07-11T10:58:38.807927Z",
     "iopub.status.idle": "2024-07-11T10:58:39.811725Z",
     "shell.execute_reply": "2024-07-11T10:58:39.809969Z"
    },
    "papermill": {
     "duration": 1.016869,
     "end_time": "2024-07-11T10:58:39.814419",
     "exception": false,
     "start_time": "2024-07-11T10:58:38.797550",
     "status": "completed"
    },
    "tags": []
   },
   "outputs": [
    {
     "name": "stdout",
     "output_type": "stream",
     "text": [
      "/kaggle/input/titanic/train.csv\n",
      "/kaggle/input/titanic/test.csv\n",
      "/kaggle/input/titanic/gender_submission.csv\n"
     ]
    }
   ],
   "source": [
    "# This Python 3 environment comes with many helpful analytics libraries installed\n",
    "# It is defined by the kaggle/python Docker image: https://github.com/kaggle/docker-python\n",
    "# For example, here's several helpful packages to load\n",
    "\n",
    "import numpy as np # linear algebra\n",
    "import pandas as pd # data processing, CSV file I/O (e.g. pd.read_csv)\n",
    "\n",
    "# Input data files are available in the read-only \"../input/\" directory\n",
    "# For example, running this (by clicking run or pressing Shift+Enter) will list all files under the input directory\n",
    "\n",
    "import os\n",
    "for dirname, _, filenames in os.walk('/kaggle/input'):\n",
    "    for filename in filenames:\n",
    "        print(os.path.join(dirname, filename))\n",
    "\n",
    "# You can write up to 20GB to the current directory (/kaggle/working/) that gets preserved as output when you create a version using \"Save & Run All\" \n",
    "# You can also write temporary files to /kaggle/temp/, but they won't be saved outside of the current session"
   ]
  },
  {
   "cell_type": "markdown",
   "id": "4ca228aa",
   "metadata": {
    "papermill": {
     "duration": 0.008383,
     "end_time": "2024-07-11T10:58:39.831415",
     "exception": false,
     "start_time": "2024-07-11T10:58:39.823032",
     "status": "completed"
    },
    "tags": []
   },
   "source": [
    "## Step 1: Import Libraries\n",
    "We start by importing the necessary libraries for data manipulation, visualization, and machine learning."
   ]
  },
  {
   "cell_type": "code",
   "execution_count": 2,
   "id": "461df28d",
   "metadata": {
    "execution": {
     "iopub.execute_input": "2024-07-11T10:58:39.850156Z",
     "iopub.status.busy": "2024-07-11T10:58:39.849621Z",
     "iopub.status.idle": "2024-07-11T10:58:41.964183Z",
     "shell.execute_reply": "2024-07-11T10:58:41.962874Z"
    },
    "papermill": {
     "duration": 2.127186,
     "end_time": "2024-07-11T10:58:41.967034",
     "exception": false,
     "start_time": "2024-07-11T10:58:39.839848",
     "status": "completed"
    },
    "tags": []
   },
   "outputs": [],
   "source": [
    "import pandas as pd\n",
    "import numpy as np\n",
    "import seaborn as sns\n",
    "import matplotlib.pyplot as plt\n",
    "from sklearn.model_selection import train_test_split, cross_val_score\n",
    "from sklearn.preprocessing import StandardScaler, LabelEncoder\n",
    "from sklearn.impute import SimpleImputer\n",
    "from sklearn.ensemble import RandomForestClassifier\n",
    "from sklearn.linear_model import LogisticRegression\n",
    "from sklearn.svm import SVC\n",
    "from sklearn.neighbors import KNeighborsClassifier\n",
    "from sklearn.tree import DecisionTreeClassifier\n",
    "from sklearn.metrics import accuracy_score, classification_report, confusion_matrix"
   ]
  },
  {
   "cell_type": "markdown",
   "id": "e9c98299",
   "metadata": {
    "papermill": {
     "duration": 0.008287,
     "end_time": "2024-07-11T10:58:41.983999",
     "exception": false,
     "start_time": "2024-07-11T10:58:41.975712",
     "status": "completed"
    },
    "tags": []
   },
   "source": [
    "## Step 2: Load the Data\n",
    "Load the training and test datasets."
   ]
  },
  {
   "cell_type": "code",
   "execution_count": 3,
   "id": "fb2cafab",
   "metadata": {
    "execution": {
     "iopub.execute_input": "2024-07-11T10:58:42.003018Z",
     "iopub.status.busy": "2024-07-11T10:58:42.002636Z",
     "iopub.status.idle": "2024-07-11T10:58:42.033755Z",
     "shell.execute_reply": "2024-07-11T10:58:42.032554Z"
    },
    "papermill": {
     "duration": 0.044294,
     "end_time": "2024-07-11T10:58:42.036564",
     "exception": false,
     "start_time": "2024-07-11T10:58:41.992270",
     "status": "completed"
    },
    "tags": []
   },
   "outputs": [],
   "source": [
    "# Load the data from CSV files\n",
    "train_df = pd.read_csv(\"/kaggle/input/titanic/train.csv\")\n",
    "test_df = pd.read_csv('/kaggle/input/titanic/test.csv')"
   ]
  },
  {
   "cell_type": "markdown",
   "id": "9e6492ad",
   "metadata": {
    "papermill": {
     "duration": 0.009517,
     "end_time": "2024-07-11T10:58:42.054886",
     "exception": false,
     "start_time": "2024-07-11T10:58:42.045369",
     "status": "completed"
    },
    "tags": []
   },
   "source": [
    "Print the head of the train dataset"
   ]
  },
  {
   "cell_type": "code",
   "execution_count": 4,
   "id": "936cc687",
   "metadata": {
    "execution": {
     "iopub.execute_input": "2024-07-11T10:58:42.073843Z",
     "iopub.status.busy": "2024-07-11T10:58:42.073398Z",
     "iopub.status.idle": "2024-07-11T10:58:42.102163Z",
     "shell.execute_reply": "2024-07-11T10:58:42.100749Z"
    },
    "papermill": {
     "duration": 0.041443,
     "end_time": "2024-07-11T10:58:42.104755",
     "exception": false,
     "start_time": "2024-07-11T10:58:42.063312",
     "status": "completed"
    },
    "tags": []
   },
   "outputs": [
    {
     "data": {
      "text/html": [
       "<div>\n",
       "<style scoped>\n",
       "    .dataframe tbody tr th:only-of-type {\n",
       "        vertical-align: middle;\n",
       "    }\n",
       "\n",
       "    .dataframe tbody tr th {\n",
       "        vertical-align: top;\n",
       "    }\n",
       "\n",
       "    .dataframe thead th {\n",
       "        text-align: right;\n",
       "    }\n",
       "</style>\n",
       "<table border=\"1\" class=\"dataframe\">\n",
       "  <thead>\n",
       "    <tr style=\"text-align: right;\">\n",
       "      <th></th>\n",
       "      <th>PassengerId</th>\n",
       "      <th>Survived</th>\n",
       "      <th>Pclass</th>\n",
       "      <th>Name</th>\n",
       "      <th>Sex</th>\n",
       "      <th>Age</th>\n",
       "      <th>SibSp</th>\n",
       "      <th>Parch</th>\n",
       "      <th>Ticket</th>\n",
       "      <th>Fare</th>\n",
       "      <th>Cabin</th>\n",
       "      <th>Embarked</th>\n",
       "    </tr>\n",
       "  </thead>\n",
       "  <tbody>\n",
       "    <tr>\n",
       "      <th>0</th>\n",
       "      <td>1</td>\n",
       "      <td>0</td>\n",
       "      <td>3</td>\n",
       "      <td>Braund, Mr. Owen Harris</td>\n",
       "      <td>male</td>\n",
       "      <td>22.0</td>\n",
       "      <td>1</td>\n",
       "      <td>0</td>\n",
       "      <td>A/5 21171</td>\n",
       "      <td>7.2500</td>\n",
       "      <td>NaN</td>\n",
       "      <td>S</td>\n",
       "    </tr>\n",
       "    <tr>\n",
       "      <th>1</th>\n",
       "      <td>2</td>\n",
       "      <td>1</td>\n",
       "      <td>1</td>\n",
       "      <td>Cumings, Mrs. John Bradley (Florence Briggs Th...</td>\n",
       "      <td>female</td>\n",
       "      <td>38.0</td>\n",
       "      <td>1</td>\n",
       "      <td>0</td>\n",
       "      <td>PC 17599</td>\n",
       "      <td>71.2833</td>\n",
       "      <td>C85</td>\n",
       "      <td>C</td>\n",
       "    </tr>\n",
       "    <tr>\n",
       "      <th>2</th>\n",
       "      <td>3</td>\n",
       "      <td>1</td>\n",
       "      <td>3</td>\n",
       "      <td>Heikkinen, Miss. Laina</td>\n",
       "      <td>female</td>\n",
       "      <td>26.0</td>\n",
       "      <td>0</td>\n",
       "      <td>0</td>\n",
       "      <td>STON/O2. 3101282</td>\n",
       "      <td>7.9250</td>\n",
       "      <td>NaN</td>\n",
       "      <td>S</td>\n",
       "    </tr>\n",
       "    <tr>\n",
       "      <th>3</th>\n",
       "      <td>4</td>\n",
       "      <td>1</td>\n",
       "      <td>1</td>\n",
       "      <td>Futrelle, Mrs. Jacques Heath (Lily May Peel)</td>\n",
       "      <td>female</td>\n",
       "      <td>35.0</td>\n",
       "      <td>1</td>\n",
       "      <td>0</td>\n",
       "      <td>113803</td>\n",
       "      <td>53.1000</td>\n",
       "      <td>C123</td>\n",
       "      <td>S</td>\n",
       "    </tr>\n",
       "    <tr>\n",
       "      <th>4</th>\n",
       "      <td>5</td>\n",
       "      <td>0</td>\n",
       "      <td>3</td>\n",
       "      <td>Allen, Mr. William Henry</td>\n",
       "      <td>male</td>\n",
       "      <td>35.0</td>\n",
       "      <td>0</td>\n",
       "      <td>0</td>\n",
       "      <td>373450</td>\n",
       "      <td>8.0500</td>\n",
       "      <td>NaN</td>\n",
       "      <td>S</td>\n",
       "    </tr>\n",
       "  </tbody>\n",
       "</table>\n",
       "</div>"
      ],
      "text/plain": [
       "   PassengerId  Survived  Pclass  \\\n",
       "0            1         0       3   \n",
       "1            2         1       1   \n",
       "2            3         1       3   \n",
       "3            4         1       1   \n",
       "4            5         0       3   \n",
       "\n",
       "                                                Name     Sex   Age  SibSp  \\\n",
       "0                            Braund, Mr. Owen Harris    male  22.0      1   \n",
       "1  Cumings, Mrs. John Bradley (Florence Briggs Th...  female  38.0      1   \n",
       "2                             Heikkinen, Miss. Laina  female  26.0      0   \n",
       "3       Futrelle, Mrs. Jacques Heath (Lily May Peel)  female  35.0      1   \n",
       "4                           Allen, Mr. William Henry    male  35.0      0   \n",
       "\n",
       "   Parch            Ticket     Fare Cabin Embarked  \n",
       "0      0         A/5 21171   7.2500   NaN        S  \n",
       "1      0          PC 17599  71.2833   C85        C  \n",
       "2      0  STON/O2. 3101282   7.9250   NaN        S  \n",
       "3      0            113803  53.1000  C123        S  \n",
       "4      0            373450   8.0500   NaN        S  "
      ]
     },
     "execution_count": 4,
     "metadata": {},
     "output_type": "execute_result"
    }
   ],
   "source": [
    "train_df.head()"
   ]
  },
  {
   "cell_type": "markdown",
   "id": "731158be",
   "metadata": {
    "papermill": {
     "duration": 0.00811,
     "end_time": "2024-07-11T10:58:42.122380",
     "exception": false,
     "start_time": "2024-07-11T10:58:42.114270",
     "status": "completed"
    },
    "tags": []
   },
   "source": [
    "get the info of the train data"
   ]
  },
  {
   "cell_type": "code",
   "execution_count": 5,
   "id": "f27ba582",
   "metadata": {
    "execution": {
     "iopub.execute_input": "2024-07-11T10:58:42.141052Z",
     "iopub.status.busy": "2024-07-11T10:58:42.140650Z",
     "iopub.status.idle": "2024-07-11T10:58:42.165562Z",
     "shell.execute_reply": "2024-07-11T10:58:42.164070Z"
    },
    "papermill": {
     "duration": 0.037274,
     "end_time": "2024-07-11T10:58:42.168168",
     "exception": false,
     "start_time": "2024-07-11T10:58:42.130894",
     "status": "completed"
    },
    "tags": []
   },
   "outputs": [
    {
     "name": "stdout",
     "output_type": "stream",
     "text": [
      "<class 'pandas.core.frame.DataFrame'>\n",
      "RangeIndex: 891 entries, 0 to 890\n",
      "Data columns (total 12 columns):\n",
      " #   Column       Non-Null Count  Dtype  \n",
      "---  ------       --------------  -----  \n",
      " 0   PassengerId  891 non-null    int64  \n",
      " 1   Survived     891 non-null    int64  \n",
      " 2   Pclass       891 non-null    int64  \n",
      " 3   Name         891 non-null    object \n",
      " 4   Sex          891 non-null    object \n",
      " 5   Age          714 non-null    float64\n",
      " 6   SibSp        891 non-null    int64  \n",
      " 7   Parch        891 non-null    int64  \n",
      " 8   Ticket       891 non-null    object \n",
      " 9   Fare         891 non-null    float64\n",
      " 10  Cabin        204 non-null    object \n",
      " 11  Embarked     889 non-null    object \n",
      "dtypes: float64(2), int64(5), object(5)\n",
      "memory usage: 83.7+ KB\n"
     ]
    }
   ],
   "source": [
    "train_df.info()"
   ]
  },
  {
   "cell_type": "markdown",
   "id": "a0cfe1a9",
   "metadata": {
    "papermill": {
     "duration": 0.0089,
     "end_time": "2024-07-11T10:58:42.185865",
     "exception": false,
     "start_time": "2024-07-11T10:58:42.176965",
     "status": "completed"
    },
    "tags": []
   },
   "source": [
    "Get the detail of the train data "
   ]
  },
  {
   "cell_type": "code",
   "execution_count": 6,
   "id": "11897c28",
   "metadata": {
    "execution": {
     "iopub.execute_input": "2024-07-11T10:58:42.205477Z",
     "iopub.status.busy": "2024-07-11T10:58:42.205090Z",
     "iopub.status.idle": "2024-07-11T10:58:42.237213Z",
     "shell.execute_reply": "2024-07-11T10:58:42.236162Z"
    },
    "papermill": {
     "duration": 0.044577,
     "end_time": "2024-07-11T10:58:42.239673",
     "exception": false,
     "start_time": "2024-07-11T10:58:42.195096",
     "status": "completed"
    },
    "tags": []
   },
   "outputs": [
    {
     "data": {
      "text/html": [
       "<div>\n",
       "<style scoped>\n",
       "    .dataframe tbody tr th:only-of-type {\n",
       "        vertical-align: middle;\n",
       "    }\n",
       "\n",
       "    .dataframe tbody tr th {\n",
       "        vertical-align: top;\n",
       "    }\n",
       "\n",
       "    .dataframe thead th {\n",
       "        text-align: right;\n",
       "    }\n",
       "</style>\n",
       "<table border=\"1\" class=\"dataframe\">\n",
       "  <thead>\n",
       "    <tr style=\"text-align: right;\">\n",
       "      <th></th>\n",
       "      <th>PassengerId</th>\n",
       "      <th>Survived</th>\n",
       "      <th>Pclass</th>\n",
       "      <th>Age</th>\n",
       "      <th>SibSp</th>\n",
       "      <th>Parch</th>\n",
       "      <th>Fare</th>\n",
       "    </tr>\n",
       "  </thead>\n",
       "  <tbody>\n",
       "    <tr>\n",
       "      <th>count</th>\n",
       "      <td>891.000000</td>\n",
       "      <td>891.000000</td>\n",
       "      <td>891.000000</td>\n",
       "      <td>714.000000</td>\n",
       "      <td>891.000000</td>\n",
       "      <td>891.000000</td>\n",
       "      <td>891.000000</td>\n",
       "    </tr>\n",
       "    <tr>\n",
       "      <th>mean</th>\n",
       "      <td>446.000000</td>\n",
       "      <td>0.383838</td>\n",
       "      <td>2.308642</td>\n",
       "      <td>29.699118</td>\n",
       "      <td>0.523008</td>\n",
       "      <td>0.381594</td>\n",
       "      <td>32.204208</td>\n",
       "    </tr>\n",
       "    <tr>\n",
       "      <th>std</th>\n",
       "      <td>257.353842</td>\n",
       "      <td>0.486592</td>\n",
       "      <td>0.836071</td>\n",
       "      <td>14.526497</td>\n",
       "      <td>1.102743</td>\n",
       "      <td>0.806057</td>\n",
       "      <td>49.693429</td>\n",
       "    </tr>\n",
       "    <tr>\n",
       "      <th>min</th>\n",
       "      <td>1.000000</td>\n",
       "      <td>0.000000</td>\n",
       "      <td>1.000000</td>\n",
       "      <td>0.420000</td>\n",
       "      <td>0.000000</td>\n",
       "      <td>0.000000</td>\n",
       "      <td>0.000000</td>\n",
       "    </tr>\n",
       "    <tr>\n",
       "      <th>25%</th>\n",
       "      <td>223.500000</td>\n",
       "      <td>0.000000</td>\n",
       "      <td>2.000000</td>\n",
       "      <td>20.125000</td>\n",
       "      <td>0.000000</td>\n",
       "      <td>0.000000</td>\n",
       "      <td>7.910400</td>\n",
       "    </tr>\n",
       "    <tr>\n",
       "      <th>50%</th>\n",
       "      <td>446.000000</td>\n",
       "      <td>0.000000</td>\n",
       "      <td>3.000000</td>\n",
       "      <td>28.000000</td>\n",
       "      <td>0.000000</td>\n",
       "      <td>0.000000</td>\n",
       "      <td>14.454200</td>\n",
       "    </tr>\n",
       "    <tr>\n",
       "      <th>75%</th>\n",
       "      <td>668.500000</td>\n",
       "      <td>1.000000</td>\n",
       "      <td>3.000000</td>\n",
       "      <td>38.000000</td>\n",
       "      <td>1.000000</td>\n",
       "      <td>0.000000</td>\n",
       "      <td>31.000000</td>\n",
       "    </tr>\n",
       "    <tr>\n",
       "      <th>max</th>\n",
       "      <td>891.000000</td>\n",
       "      <td>1.000000</td>\n",
       "      <td>3.000000</td>\n",
       "      <td>80.000000</td>\n",
       "      <td>8.000000</td>\n",
       "      <td>6.000000</td>\n",
       "      <td>512.329200</td>\n",
       "    </tr>\n",
       "  </tbody>\n",
       "</table>\n",
       "</div>"
      ],
      "text/plain": [
       "       PassengerId    Survived      Pclass         Age       SibSp  \\\n",
       "count   891.000000  891.000000  891.000000  714.000000  891.000000   \n",
       "mean    446.000000    0.383838    2.308642   29.699118    0.523008   \n",
       "std     257.353842    0.486592    0.836071   14.526497    1.102743   \n",
       "min       1.000000    0.000000    1.000000    0.420000    0.000000   \n",
       "25%     223.500000    0.000000    2.000000   20.125000    0.000000   \n",
       "50%     446.000000    0.000000    3.000000   28.000000    0.000000   \n",
       "75%     668.500000    1.000000    3.000000   38.000000    1.000000   \n",
       "max     891.000000    1.000000    3.000000   80.000000    8.000000   \n",
       "\n",
       "            Parch        Fare  \n",
       "count  891.000000  891.000000  \n",
       "mean     0.381594   32.204208  \n",
       "std      0.806057   49.693429  \n",
       "min      0.000000    0.000000  \n",
       "25%      0.000000    7.910400  \n",
       "50%      0.000000   14.454200  \n",
       "75%      0.000000   31.000000  \n",
       "max      6.000000  512.329200  "
      ]
     },
     "execution_count": 6,
     "metadata": {},
     "output_type": "execute_result"
    }
   ],
   "source": [
    "train_df.describe()"
   ]
  },
  {
   "cell_type": "code",
   "execution_count": 7,
   "id": "807fd4f9",
   "metadata": {
    "execution": {
     "iopub.execute_input": "2024-07-11T10:58:42.259618Z",
     "iopub.status.busy": "2024-07-11T10:58:42.259138Z",
     "iopub.status.idle": "2024-07-11T10:58:42.266634Z",
     "shell.execute_reply": "2024-07-11T10:58:42.265424Z"
    },
    "papermill": {
     "duration": 0.019845,
     "end_time": "2024-07-11T10:58:42.268875",
     "exception": false,
     "start_time": "2024-07-11T10:58:42.249030",
     "status": "completed"
    },
    "tags": []
   },
   "outputs": [
    {
     "data": {
      "text/plain": [
       "(891, 12)"
      ]
     },
     "execution_count": 7,
     "metadata": {},
     "output_type": "execute_result"
    }
   ],
   "source": [
    "train_df.shape"
   ]
  },
  {
   "cell_type": "markdown",
   "id": "68911518",
   "metadata": {
    "papermill": {
     "duration": 0.008744,
     "end_time": "2024-07-11T10:58:42.286646",
     "exception": false,
     "start_time": "2024-07-11T10:58:42.277902",
     "status": "completed"
    },
    "tags": []
   },
   "source": [
    "Test Data head"
   ]
  },
  {
   "cell_type": "code",
   "execution_count": 8,
   "id": "f83fefdb",
   "metadata": {
    "execution": {
     "iopub.execute_input": "2024-07-11T10:58:42.306336Z",
     "iopub.status.busy": "2024-07-11T10:58:42.305907Z",
     "iopub.status.idle": "2024-07-11T10:58:42.322520Z",
     "shell.execute_reply": "2024-07-11T10:58:42.321322Z"
    },
    "papermill": {
     "duration": 0.029188,
     "end_time": "2024-07-11T10:58:42.324899",
     "exception": false,
     "start_time": "2024-07-11T10:58:42.295711",
     "status": "completed"
    },
    "tags": []
   },
   "outputs": [
    {
     "data": {
      "text/html": [
       "<div>\n",
       "<style scoped>\n",
       "    .dataframe tbody tr th:only-of-type {\n",
       "        vertical-align: middle;\n",
       "    }\n",
       "\n",
       "    .dataframe tbody tr th {\n",
       "        vertical-align: top;\n",
       "    }\n",
       "\n",
       "    .dataframe thead th {\n",
       "        text-align: right;\n",
       "    }\n",
       "</style>\n",
       "<table border=\"1\" class=\"dataframe\">\n",
       "  <thead>\n",
       "    <tr style=\"text-align: right;\">\n",
       "      <th></th>\n",
       "      <th>PassengerId</th>\n",
       "      <th>Pclass</th>\n",
       "      <th>Name</th>\n",
       "      <th>Sex</th>\n",
       "      <th>Age</th>\n",
       "      <th>SibSp</th>\n",
       "      <th>Parch</th>\n",
       "      <th>Ticket</th>\n",
       "      <th>Fare</th>\n",
       "      <th>Cabin</th>\n",
       "      <th>Embarked</th>\n",
       "    </tr>\n",
       "  </thead>\n",
       "  <tbody>\n",
       "    <tr>\n",
       "      <th>0</th>\n",
       "      <td>892</td>\n",
       "      <td>3</td>\n",
       "      <td>Kelly, Mr. James</td>\n",
       "      <td>male</td>\n",
       "      <td>34.5</td>\n",
       "      <td>0</td>\n",
       "      <td>0</td>\n",
       "      <td>330911</td>\n",
       "      <td>7.8292</td>\n",
       "      <td>NaN</td>\n",
       "      <td>Q</td>\n",
       "    </tr>\n",
       "    <tr>\n",
       "      <th>1</th>\n",
       "      <td>893</td>\n",
       "      <td>3</td>\n",
       "      <td>Wilkes, Mrs. James (Ellen Needs)</td>\n",
       "      <td>female</td>\n",
       "      <td>47.0</td>\n",
       "      <td>1</td>\n",
       "      <td>0</td>\n",
       "      <td>363272</td>\n",
       "      <td>7.0000</td>\n",
       "      <td>NaN</td>\n",
       "      <td>S</td>\n",
       "    </tr>\n",
       "    <tr>\n",
       "      <th>2</th>\n",
       "      <td>894</td>\n",
       "      <td>2</td>\n",
       "      <td>Myles, Mr. Thomas Francis</td>\n",
       "      <td>male</td>\n",
       "      <td>62.0</td>\n",
       "      <td>0</td>\n",
       "      <td>0</td>\n",
       "      <td>240276</td>\n",
       "      <td>9.6875</td>\n",
       "      <td>NaN</td>\n",
       "      <td>Q</td>\n",
       "    </tr>\n",
       "    <tr>\n",
       "      <th>3</th>\n",
       "      <td>895</td>\n",
       "      <td>3</td>\n",
       "      <td>Wirz, Mr. Albert</td>\n",
       "      <td>male</td>\n",
       "      <td>27.0</td>\n",
       "      <td>0</td>\n",
       "      <td>0</td>\n",
       "      <td>315154</td>\n",
       "      <td>8.6625</td>\n",
       "      <td>NaN</td>\n",
       "      <td>S</td>\n",
       "    </tr>\n",
       "    <tr>\n",
       "      <th>4</th>\n",
       "      <td>896</td>\n",
       "      <td>3</td>\n",
       "      <td>Hirvonen, Mrs. Alexander (Helga E Lindqvist)</td>\n",
       "      <td>female</td>\n",
       "      <td>22.0</td>\n",
       "      <td>1</td>\n",
       "      <td>1</td>\n",
       "      <td>3101298</td>\n",
       "      <td>12.2875</td>\n",
       "      <td>NaN</td>\n",
       "      <td>S</td>\n",
       "    </tr>\n",
       "  </tbody>\n",
       "</table>\n",
       "</div>"
      ],
      "text/plain": [
       "   PassengerId  Pclass                                          Name     Sex  \\\n",
       "0          892       3                              Kelly, Mr. James    male   \n",
       "1          893       3              Wilkes, Mrs. James (Ellen Needs)  female   \n",
       "2          894       2                     Myles, Mr. Thomas Francis    male   \n",
       "3          895       3                              Wirz, Mr. Albert    male   \n",
       "4          896       3  Hirvonen, Mrs. Alexander (Helga E Lindqvist)  female   \n",
       "\n",
       "    Age  SibSp  Parch   Ticket     Fare Cabin Embarked  \n",
       "0  34.5      0      0   330911   7.8292   NaN        Q  \n",
       "1  47.0      1      0   363272   7.0000   NaN        S  \n",
       "2  62.0      0      0   240276   9.6875   NaN        Q  \n",
       "3  27.0      0      0   315154   8.6625   NaN        S  \n",
       "4  22.0      1      1  3101298  12.2875   NaN        S  "
      ]
     },
     "execution_count": 8,
     "metadata": {},
     "output_type": "execute_result"
    }
   ],
   "source": [
    "test_df.head()"
   ]
  },
  {
   "cell_type": "code",
   "execution_count": 9,
   "id": "d697eff3",
   "metadata": {
    "execution": {
     "iopub.execute_input": "2024-07-11T10:58:42.345260Z",
     "iopub.status.busy": "2024-07-11T10:58:42.344820Z",
     "iopub.status.idle": "2024-07-11T10:58:42.351857Z",
     "shell.execute_reply": "2024-07-11T10:58:42.350725Z"
    },
    "papermill": {
     "duration": 0.020138,
     "end_time": "2024-07-11T10:58:42.354343",
     "exception": false,
     "start_time": "2024-07-11T10:58:42.334205",
     "status": "completed"
    },
    "tags": []
   },
   "outputs": [
    {
     "data": {
      "text/plain": [
       "(418, 11)"
      ]
     },
     "execution_count": 9,
     "metadata": {},
     "output_type": "execute_result"
    }
   ],
   "source": [
    "test_df.shape"
   ]
  },
  {
   "cell_type": "markdown",
   "id": "5f86935b",
   "metadata": {
    "papermill": {
     "duration": 0.00915,
     "end_time": "2024-07-11T10:58:42.373284",
     "exception": false,
     "start_time": "2024-07-11T10:58:42.364134",
     "status": "completed"
    },
    "tags": []
   },
   "source": [
    "## Step 3: Data Exploration and Cleaning\n",
    "We explore the data to understand the missing values and unique values of each column. Then we clean the data by imputing missing values and encoding categorical variables.\n"
   ]
  },
  {
   "cell_type": "code",
   "execution_count": 10,
   "id": "28cad9a7",
   "metadata": {
    "execution": {
     "iopub.execute_input": "2024-07-11T10:58:42.393826Z",
     "iopub.status.busy": "2024-07-11T10:58:42.393336Z",
     "iopub.status.idle": "2024-07-11T10:58:42.403771Z",
     "shell.execute_reply": "2024-07-11T10:58:42.402374Z"
    },
    "papermill": {
     "duration": 0.023815,
     "end_time": "2024-07-11T10:58:42.406511",
     "exception": false,
     "start_time": "2024-07-11T10:58:42.382696",
     "status": "completed"
    },
    "tags": []
   },
   "outputs": [
    {
     "name": "stdout",
     "output_type": "stream",
     "text": [
      "Train Data: \n",
      "PassengerId      0\n",
      "Survived         0\n",
      "Pclass           0\n",
      "Name             0\n",
      "Sex              0\n",
      "Age            177\n",
      "SibSp            0\n",
      "Parch            0\n",
      "Ticket           0\n",
      "Fare             0\n",
      "Cabin          687\n",
      "Embarked         2\n",
      "dtype: int64\n",
      "\n",
      "Test Data: \n",
      "PassengerId      0\n",
      "Pclass           0\n",
      "Name             0\n",
      "Sex              0\n",
      "Age             86\n",
      "SibSp            0\n",
      "Parch            0\n",
      "Ticket           0\n",
      "Fare             1\n",
      "Cabin          327\n",
      "Embarked         0\n",
      "dtype: int64\n"
     ]
    }
   ],
   "source": [
    "# Check for missing values in the training and test datasets\n",
    "print(\"Train Data: \")\n",
    "print(train_df.isnull().sum())\n",
    "print(\"\\nTest Data: \")\n",
    "print(test_df.isnull().sum())"
   ]
  },
  {
   "cell_type": "code",
   "execution_count": 11,
   "id": "3ad22563",
   "metadata": {
    "execution": {
     "iopub.execute_input": "2024-07-11T10:58:42.428645Z",
     "iopub.status.busy": "2024-07-11T10:58:42.428173Z",
     "iopub.status.idle": "2024-07-11T10:58:42.436724Z",
     "shell.execute_reply": "2024-07-11T10:58:42.435061Z"
    },
    "papermill": {
     "duration": 0.022191,
     "end_time": "2024-07-11T10:58:42.439366",
     "exception": false,
     "start_time": "2024-07-11T10:58:42.417175",
     "status": "completed"
    },
    "tags": []
   },
   "outputs": [
    {
     "name": "stdout",
     "output_type": "stream",
     "text": [
      "Number of unique values in Sex Column = 2 and values  = ['male' 'female']\n",
      "Number of unique values in Embarked Column = 3 and values  = ['S' 'C' 'Q' nan]\n"
     ]
    }
   ],
   "source": [
    "print(f\"Number of unique values in Sex Column = {train_df.Sex.nunique()} and values  = {train_df.Sex.unique()}\")\n",
    "print(f\"Number of unique values in Embarked Column = {train_df.Embarked.nunique()} and values  = {train_df.Embarked.unique()}\")"
   ]
  },
  {
   "cell_type": "code",
   "execution_count": 12,
   "id": "61c2e6a6",
   "metadata": {
    "execution": {
     "iopub.execute_input": "2024-07-11T10:58:42.461000Z",
     "iopub.status.busy": "2024-07-11T10:58:42.460628Z",
     "iopub.status.idle": "2024-07-11T10:58:43.006447Z",
     "shell.execute_reply": "2024-07-11T10:58:43.005259Z"
    },
    "papermill": {
     "duration": 0.559385,
     "end_time": "2024-07-11T10:58:43.008976",
     "exception": false,
     "start_time": "2024-07-11T10:58:42.449591",
     "status": "completed"
    },
    "tags": []
   },
   "outputs": [
    {
     "data": {
      "image/png": "[encoded data removed]",
      "text/plain": [
       "<Figure size 1000x600 with 1 Axes>"
      ]
     },
     "metadata": {},
     "output_type": "display_data"
    }
   ],
   "source": [
    "plt.figure(figsize=(10, 6))\n",
    "sns.heatmap(train_df.isnull(), cbar=False, cmap='viridis')\n",
    "plt.title('Missing Values Heatmap')\n",
    "plt.show()"
   ]
  },
  {
   "cell_type": "code",
   "execution_count": 13,
   "id": "c95ad638",
   "metadata": {
    "execution": {
     "iopub.execute_input": "2024-07-11T10:58:43.031524Z",
     "iopub.status.busy": "2024-07-11T10:58:43.031048Z",
     "iopub.status.idle": "2024-07-11T10:58:43.038157Z",
     "shell.execute_reply": "2024-07-11T10:58:43.037008Z"
    },
    "papermill": {
     "duration": 0.021131,
     "end_time": "2024-07-11T10:58:43.040545",
     "exception": false,
     "start_time": "2024-07-11T10:58:43.019414",
     "status": "completed"
    },
    "tags": []
   },
   "outputs": [],
   "source": [
    "train_df['Embarked']=train_df.Embarked.fillna(train_df.Embarked.mode()[0])"
   ]
  },
  {
   "cell_type": "code",
   "execution_count": 14,
   "id": "885e6e2c",
   "metadata": {
    "execution": {
     "iopub.execute_input": "2024-07-11T10:58:43.064614Z",
     "iopub.status.busy": "2024-07-11T10:58:43.064096Z",
     "iopub.status.idle": "2024-07-11T10:58:43.074703Z",
     "shell.execute_reply": "2024-07-11T10:58:43.073000Z"
    },
    "papermill": {
     "duration": 0.025252,
     "end_time": "2024-07-11T10:58:43.077240",
     "exception": false,
     "start_time": "2024-07-11T10:58:43.051988",
     "status": "completed"
    },
    "tags": []
   },
   "outputs": [
    {
     "data": {
      "text/plain": [
       "Embarked\n",
       "S    646\n",
       "C    168\n",
       "Q     77\n",
       "Name: count, dtype: int64"
      ]
     },
     "execution_count": 14,
     "metadata": {},
     "output_type": "execute_result"
    }
   ],
   "source": [
    "train_df.Embarked.value_counts()"
   ]
  },
  {
   "cell_type": "code",
   "execution_count": 15,
   "id": "3a086c98",
   "metadata": {
    "execution": {
     "iopub.execute_input": "2024-07-11T10:58:43.099876Z",
     "iopub.status.busy": "2024-07-11T10:58:43.099456Z",
     "iopub.status.idle": "2024-07-11T10:58:43.107056Z",
     "shell.execute_reply": "2024-07-11T10:58:43.105965Z"
    },
    "papermill": {
     "duration": 0.021638,
     "end_time": "2024-07-11T10:58:43.109395",
     "exception": false,
     "start_time": "2024-07-11T10:58:43.087757",
     "status": "completed"
    },
    "tags": []
   },
   "outputs": [
    {
     "data": {
      "text/plain": [
       "0"
      ]
     },
     "execution_count": 15,
     "metadata": {},
     "output_type": "execute_result"
    }
   ],
   "source": [
    "train_df.Embarked.isnull().sum()"
   ]
  },
  {
   "cell_type": "code",
   "execution_count": 16,
   "id": "c06568b2",
   "metadata": {
    "execution": {
     "iopub.execute_input": "2024-07-11T10:58:43.132806Z",
     "iopub.status.busy": "2024-07-11T10:58:43.132288Z",
     "iopub.status.idle": "2024-07-11T10:58:43.149705Z",
     "shell.execute_reply": "2024-07-11T10:58:43.148366Z"
    },
    "papermill": {
     "duration": 0.032027,
     "end_time": "2024-07-11T10:58:43.152408",
     "exception": false,
     "start_time": "2024-07-11T10:58:43.120381",
     "status": "completed"
    },
    "tags": []
   },
   "outputs": [
    {
     "name": "stdout",
     "output_type": "stream",
     "text": [
      "\n",
      "After filling missing values:\n",
      "Empty DataFrame\n",
      "Columns: [PassengerId, Pclass, Name, Sex, Age, SibSp, Parch, Ticket, Fare, Cabin, Embarked]\n",
      "Index: []\n"
     ]
    }
   ],
   "source": [
    "from sklearn.impute import SimpleImputer\n",
    "\n",
    "# Fill missing values in 'Fare' with the mean value\n",
    "imputer = SimpleImputer(strategy='mean')\n",
    "test_df['Fare'] = imputer.fit_transform(test_df[['Fare']])\n",
    "\n",
    "# Verify that there are no more missing values in 'Fare'\n",
    "print(\"\\nAfter filling missing values:\")\n",
    "print(test_df[test_df['Fare'].isnull()])\n"
   ]
  },
  {
   "cell_type": "code",
   "execution_count": 17,
   "id": "1a30f88f",
   "metadata": {
    "execution": {
     "iopub.execute_input": "2024-07-11T10:58:43.175483Z",
     "iopub.status.busy": "2024-07-11T10:58:43.175057Z",
     "iopub.status.idle": "2024-07-11T10:58:43.182986Z",
     "shell.execute_reply": "2024-07-11T10:58:43.181809Z"
    },
    "papermill": {
     "duration": 0.022028,
     "end_time": "2024-07-11T10:58:43.185258",
     "exception": false,
     "start_time": "2024-07-11T10:58:43.163230",
     "status": "completed"
    },
    "tags": []
   },
   "outputs": [
    {
     "data": {
      "text/plain": [
       "0"
      ]
     },
     "execution_count": 17,
     "metadata": {},
     "output_type": "execute_result"
    }
   ],
   "source": [
    "test_df.Fare.isnull().sum()"
   ]
  },
  {
   "cell_type": "markdown",
   "id": "49e65936",
   "metadata": {
    "papermill": {
     "duration": 0.010863,
     "end_time": "2024-07-11T10:58:43.206854",
     "exception": false,
     "start_time": "2024-07-11T10:58:43.195991",
     "status": "completed"
    },
    "tags": []
   },
   "source": [
    "#### ENCODING CATEGORICAL COLUMNS SEX AND EMBARKED"
   ]
  },
  {
   "cell_type": "code",
   "execution_count": 18,
   "id": "8206bbb0",
   "metadata": {
    "execution": {
     "iopub.execute_input": "2024-07-11T10:58:43.230148Z",
     "iopub.status.busy": "2024-07-11T10:58:43.229762Z",
     "iopub.status.idle": "2024-07-11T10:58:43.240762Z",
     "shell.execute_reply": "2024-07-11T10:58:43.239538Z"
    },
    "papermill": {
     "duration": 0.025733,
     "end_time": "2024-07-11T10:58:43.243360",
     "exception": false,
     "start_time": "2024-07-11T10:58:43.217627",
     "status": "completed"
    },
    "tags": []
   },
   "outputs": [],
   "source": [
    "train_df['Sex'] = train_df.Sex.map({'male': 1, 'female': 0})\n",
    "train_df['Embarked'] = train_df.Embarked.map({'S':1,'C':2, 'Q':3})\n",
    "test_df['Sex'] = test_df.Sex.map({'male': 1, 'female': 0})\n",
    "test_df['Embarked'] = test_df.Embarked.map({'S':1,'C':2, 'Q':3, np.nan:0})"
   ]
  },
  {
   "cell_type": "markdown",
   "id": "9643916b",
   "metadata": {
    "papermill": {
     "duration": 0.010457,
     "end_time": "2024-07-11T10:58:43.264559",
     "exception": false,
     "start_time": "2024-07-11T10:58:43.254102",
     "status": "completed"
    },
    "tags": []
   },
   "source": [
    "We have to drop the cabin feature because it mostly contail null values."
   ]
  },
  {
   "cell_type": "code",
   "execution_count": 19,
   "id": "c4ebf72d",
   "metadata": {
    "execution": {
     "iopub.execute_input": "2024-07-11T10:58:43.288325Z",
     "iopub.status.busy": "2024-07-11T10:58:43.287916Z",
     "iopub.status.idle": "2024-07-11T10:58:43.297813Z",
     "shell.execute_reply": "2024-07-11T10:58:43.296562Z"
    },
    "papermill": {
     "duration": 0.024522,
     "end_time": "2024-07-11T10:58:43.300204",
     "exception": false,
     "start_time": "2024-07-11T10:58:43.275682",
     "status": "completed"
    },
    "tags": []
   },
   "outputs": [],
   "source": [
    "# Check if 'Cabin' column exists in both train_df and test_df\n",
    "if 'Cabin' in train_df.columns:\n",
    "    train_df.drop('Cabin', axis=1, inplace=True)\n",
    "\n",
    "if 'Cabin' in test_df.columns:\n",
    "    test_df.drop('Cabin', axis=1, inplace=True)"
   ]
  },
  {
   "cell_type": "code",
   "execution_count": 20,
   "id": "13955b6c",
   "metadata": {
    "execution": {
     "iopub.execute_input": "2024-07-11T10:58:43.325000Z",
     "iopub.status.busy": "2024-07-11T10:58:43.323478Z",
     "iopub.status.idle": "2024-07-11T10:58:43.333782Z",
     "shell.execute_reply": "2024-07-11T10:58:43.332573Z"
    },
    "papermill": {
     "duration": 0.025366,
     "end_time": "2024-07-11T10:58:43.336332",
     "exception": false,
     "start_time": "2024-07-11T10:58:43.310966",
     "status": "completed"
    },
    "tags": []
   },
   "outputs": [
    {
     "data": {
      "text/plain": [
       "PassengerId      0\n",
       "Survived         0\n",
       "Pclass           0\n",
       "Name             0\n",
       "Sex              0\n",
       "Age            177\n",
       "SibSp            0\n",
       "Parch            0\n",
       "Ticket           0\n",
       "Fare             0\n",
       "Embarked         0\n",
       "dtype: int64"
      ]
     },
     "execution_count": 20,
     "metadata": {},
     "output_type": "execute_result"
    }
   ],
   "source": [
    "train_df.isnull().sum()"
   ]
  },
  {
   "cell_type": "markdown",
   "id": "b3b93f85",
   "metadata": {
    "papermill": {
     "duration": 0.010797,
     "end_time": "2024-07-11T10:58:43.358012",
     "exception": false,
     "start_time": "2024-07-11T10:58:43.347215",
     "status": "completed"
    },
    "tags": []
   },
   "source": [
    "## Step 4: Feature Engineering\n",
    "Select relevant features for the prediction and create new features if necessary."
   ]
  },
  {
   "cell_type": "code",
   "execution_count": 21,
   "id": "84dedff3",
   "metadata": {
    "execution": {
     "iopub.execute_input": "2024-07-11T10:58:43.383664Z",
     "iopub.status.busy": "2024-07-11T10:58:43.383208Z",
     "iopub.status.idle": "2024-07-11T10:58:43.391710Z",
     "shell.execute_reply": "2024-07-11T10:58:43.390582Z"
    },
    "papermill": {
     "duration": 0.024188,
     "end_time": "2024-07-11T10:58:43.394238",
     "exception": false,
     "start_time": "2024-07-11T10:58:43.370050",
     "status": "completed"
    },
    "tags": []
   },
   "outputs": [],
   "source": [
    "# Select the features to be used for prediction\n",
    "features = ['Pclass', 'Sex', 'SibSp', 'Parch', 'Fare', 'Embarked']\n",
    "\n",
    "# Create feature matrices (X) and target vector (y) for training\n",
    "X_train = train_df[features]\n",
    "y_train = train_df['Survived']\n",
    "\n",
    "# Create feature matrix for test data\n",
    "X_test = test_df[features]"
   ]
  },
  {
   "cell_type": "markdown",
   "id": "ada2a69e",
   "metadata": {
    "papermill": {
     "duration": 0.010429,
     "end_time": "2024-07-11T10:58:43.415563",
     "exception": false,
     "start_time": "2024-07-11T10:58:43.405134",
     "status": "completed"
    },
    "tags": []
   },
   "source": [
    "## Step 5: Train Multiple Models and Evaluate\n",
    "Train various machine learning models and evaluate their performance using cross-validation.\n"
   ]
  },
  {
   "cell_type": "code",
   "execution_count": 22,
   "id": "273952fd",
   "metadata": {
    "execution": {
     "iopub.execute_input": "2024-07-11T10:58:43.439581Z",
     "iopub.status.busy": "2024-07-11T10:58:43.439155Z",
     "iopub.status.idle": "2024-07-11T10:58:44.926268Z",
     "shell.execute_reply": "2024-07-11T10:58:44.925007Z"
    },
    "papermill": {
     "duration": 1.502441,
     "end_time": "2024-07-11T10:58:44.928830",
     "exception": false,
     "start_time": "2024-07-11T10:58:43.426389",
     "status": "completed"
    },
    "tags": []
   },
   "outputs": [
    {
     "name": "stdout",
     "output_type": "stream",
     "text": [
      "Logistic Regression: 0.7935\n",
      "Random Forest: 0.7924\n",
      "Support Vector Machine: 0.6679\n",
      "K-Nearest Neighbors: 0.7386\n",
      "Decision Tree: 0.7924\n",
      "\n",
      "Best Model: Logistic Regression\n"
     ]
    }
   ],
   "source": [
    "# Define the machine learning models to be evaluated\n",
    "models = {\n",
    "    'Logistic Regression': LogisticRegression(max_iter=200),\n",
    "    'Random Forest': RandomForestClassifier(n_estimators=100),\n",
    "    'Support Vector Machine': SVC(),\n",
    "    'K-Nearest Neighbors': KNeighborsClassifier(),\n",
    "    'Decision Tree': DecisionTreeClassifier()\n",
    "}\n",
    "\n",
    "# Evaluate each model using cross-validation and store the results\n",
    "results = {}\n",
    "for model_name, model in models.items():\n",
    "    cv_scores = cross_val_score(model, X_train, y_train, cv=5)\n",
    "    results[model_name] = cv_scores.mean()\n",
    "    print(f\"{model_name}: {cv_scores.mean():.4f}\")\n",
    "\n",
    "# Determine the best model based on cross-validation scores\n",
    "best_model_name = max(results, key=results.get)\n",
    "best_model = models[best_model_name]\n",
    "print(f\"\\nBest Model: {best_model_name}\")\n"
   ]
  },
  {
   "cell_type": "code",
   "execution_count": 23,
   "id": "6ced118e",
   "metadata": {
    "execution": {
     "iopub.execute_input": "2024-07-11T10:58:44.953560Z",
     "iopub.status.busy": "2024-07-11T10:58:44.953126Z",
     "iopub.status.idle": "2024-07-11T10:58:44.963882Z",
     "shell.execute_reply": "2024-07-11T10:58:44.962797Z"
    },
    "papermill": {
     "duration": 0.026047,
     "end_time": "2024-07-11T10:58:44.966220",
     "exception": false,
     "start_time": "2024-07-11T10:58:44.940173",
     "status": "completed"
    },
    "tags": []
   },
   "outputs": [
    {
     "data": {
      "text/plain": [
       "PassengerId     0\n",
       "Pclass          0\n",
       "Name            0\n",
       "Sex             0\n",
       "Age            86\n",
       "SibSp           0\n",
       "Parch           0\n",
       "Ticket          0\n",
       "Fare            0\n",
       "Embarked        0\n",
       "dtype: int64"
      ]
     },
     "execution_count": 23,
     "metadata": {},
     "output_type": "execute_result"
    }
   ],
   "source": [
    "test_df.isnull().sum()"
   ]
  },
  {
   "cell_type": "markdown",
   "id": "93132abc",
   "metadata": {
    "papermill": {
     "duration": 0.011523,
     "end_time": "2024-07-11T10:58:44.989586",
     "exception": false,
     "start_time": "2024-07-11T10:58:44.978063",
     "status": "completed"
    },
    "tags": []
   },
   "source": [
    "## Step 6: Train the Best Model on the Full Training Set\n",
    "Train the best model on the entire training set and make predictions on the test set."
   ]
  },
  {
   "cell_type": "code",
   "execution_count": 24,
   "id": "28bffd7d",
   "metadata": {
    "execution": {
     "iopub.execute_input": "2024-07-11T10:58:45.016125Z",
     "iopub.status.busy": "2024-07-11T10:58:45.014877Z",
     "iopub.status.idle": "2024-07-11T10:58:45.048053Z",
     "shell.execute_reply": "2024-07-11T10:58:45.046852Z"
    },
    "papermill": {
     "duration": 0.050396,
     "end_time": "2024-07-11T10:58:45.051141",
     "exception": false,
     "start_time": "2024-07-11T10:58:45.000745",
     "status": "completed"
    },
    "tags": []
   },
   "outputs": [],
   "source": [
    "# Train the best model on the entire training set\n",
    "best_model.fit(X_train, y_train)\n",
    "\n",
    "# Make predictions on the test set\n",
    "y_test_pred = best_model.predict(X_test)\n"
   ]
  },
  {
   "cell_type": "markdown",
   "id": "6460f39a",
   "metadata": {
    "papermill": {
     "duration": 0.014313,
     "end_time": "2024-07-11T10:58:45.081979",
     "exception": false,
     "start_time": "2024-07-11T10:58:45.067666",
     "status": "completed"
    },
    "tags": []
   },
   "source": [
    "## Step 7: Create Submission File\n",
    "Prepare the submission file in the required format.\n"
   ]
  },
  {
   "cell_type": "code",
   "execution_count": 25,
   "id": "bc369b34",
   "metadata": {
    "execution": {
     "iopub.execute_input": "2024-07-11T10:58:45.110451Z",
     "iopub.status.busy": "2024-07-11T10:58:45.109788Z",
     "iopub.status.idle": "2024-07-11T10:58:45.119739Z",
     "shell.execute_reply": "2024-07-11T10:58:45.118579Z"
    },
    "papermill": {
     "duration": 0.025491,
     "end_time": "2024-07-11T10:58:45.122692",
     "exception": false,
     "start_time": "2024-07-11T10:58:45.097201",
     "status": "completed"
    },
    "tags": []
   },
   "outputs": [],
   "source": [
    "# Create a DataFrame for the submission file\n",
    "submission = pd.DataFrame({\n",
    "    'PassengerId': test_df['PassengerId'],\n",
    "    'Survived': y_test_pred\n",
    "})\n",
    "\n",
    "# Save the submission file as a CSV\n",
    "submission.to_csv('submission.csv', index=False)"
   ]
  },
  {
   "cell_type": "code",
   "execution_count": 26,
   "id": "30ffdaec",
   "metadata": {
    "execution": {
     "iopub.execute_input": "2024-07-11T10:58:45.153651Z",
     "iopub.status.busy": "2024-07-11T10:58:45.153226Z",
     "iopub.status.idle": "2024-07-11T10:58:45.166208Z",
     "shell.execute_reply": "2024-07-11T10:58:45.164797Z"
    },
    "papermill": {
     "duration": 0.032776,
     "end_time": "2024-07-11T10:58:45.171148",
     "exception": false,
     "start_time": "2024-07-11T10:58:45.138372",
     "status": "completed"
    },
    "tags": []
   },
   "outputs": [
    {
     "data": {
      "text/html": [
       "<div>\n",
       "<style scoped>\n",
       "    .dataframe tbody tr th:only-of-type {\n",
       "        vertical-align: middle;\n",
       "    }\n",
       "\n",
       "    .dataframe tbody tr th {\n",
       "        vertical-align: top;\n",
       "    }\n",
       "\n",
       "    .dataframe thead th {\n",
       "        text-align: right;\n",
       "    }\n",
       "</style>\n",
       "<table border=\"1\" class=\"dataframe\">\n",
       "  <thead>\n",
       "    <tr style=\"text-align: right;\">\n",
       "      <th></th>\n",
       "      <th>PassengerId</th>\n",
       "      <th>Survived</th>\n",
       "    </tr>\n",
       "  </thead>\n",
       "  <tbody>\n",
       "    <tr>\n",
       "      <th>0</th>\n",
       "      <td>892</td>\n",
       "      <td>0</td>\n",
       "    </tr>\n",
       "    <tr>\n",
       "      <th>1</th>\n",
       "      <td>893</td>\n",
       "      <td>1</td>\n",
       "    </tr>\n",
       "    <tr>\n",
       "      <th>2</th>\n",
       "      <td>894</td>\n",
       "      <td>0</td>\n",
       "    </tr>\n",
       "    <tr>\n",
       "      <th>3</th>\n",
       "      <td>895</td>\n",
       "      <td>0</td>\n",
       "    </tr>\n",
       "    <tr>\n",
       "      <th>4</th>\n",
       "      <td>896</td>\n",
       "      <td>1</td>\n",
       "    </tr>\n",
       "  </tbody>\n",
       "</table>\n",
       "</div>"
      ],
      "text/plain": [
       "   PassengerId  Survived\n",
       "0          892         0\n",
       "1          893         1\n",
       "2          894         0\n",
       "3          895         0\n",
       "4          896         1"
      ]
     },
     "execution_count": 26,
     "metadata": {},
     "output_type": "execute_result"
    }
   ],
   "source": [
    "submission.head()"
   ]
  }
 ],
 "metadata": {
  "kaggle": {
   "accelerator": "none",
   "dataSources": [
    {
     "databundleVersionId": 26502,
     "sourceId": 3136,
     "sourceType": "competition"
    }
   ],
   "dockerImageVersionId": 30732,
   "isGpuEnabled": false,
   "isInternetEnabled": true,
   "language": "python",
   "sourceType": "notebook"
  },
  "kernelspec": {
   "display_name": "Python 3",
   "language": "python",
   "name": "python3"
  },
  "language_info": {
   "codemirror_mode": {
    "name": "ipython",
    "version": 3
   },
   "file_extension": ".py",
   "mimetype": "text/x-python",
   "name": "python",
   "nbconvert_exporter": "python",
   "pygments_lexer": "ipython3",
   "version": "3.10.13"
  },
  "papermill": {
   "default_parameters": {},
   "duration": 10.111316,
   "end_time": "2024-07-11T10:58:45.909521",
   "environment_variables": {},
   "exception": null,
   "input_path": "__notebook__.ipynb",
   "output_path": "__notebook__.ipynb",
   "parameters": {},
   "start_time": "2024-07-11T10:58:35.798205",
   "version": "2.5.0"
  }
 },
 "nbformat": 4,
 "nbformat_minor": 5
}
